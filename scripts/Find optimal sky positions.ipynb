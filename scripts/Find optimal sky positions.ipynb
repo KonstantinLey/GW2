{
 "cells": [
  {
   "cell_type": "code",
   "execution_count": 1,
   "metadata": {
    "collapsed": true
   },
   "outputs": [],
   "source": [
    "import numpy as np\n",
    "from numpy import unravel_index\n",
    "\n",
    "#readin the SNR skymaps\n",
    "SNR_L = np.loadtxt('SNR skymaps/SNR Matrix for {0} GW170817.txt'.format('L1'))\n",
    "SNR_H = np.loadtxt('SNR skymaps/SNR Matrix for {0} GW170817.txt'.format('H1'))\n",
    "SNR_V = np.loadtxt('SNR skymaps/SNR Matrix for {0} GW170817.txt'.format('V1'))\n",
    "\n",
    "n_ra = len(SNR_L)\n",
    "\n",
    "ra_plot = np.linspace(-np.pi, np.pi, n_ra)\n",
    "dec_plot= np.linspace(-np.pi/2, np.pi/2, n_ra)\n",
    "\n",
    "#Generate Grid for the calculation\n",
    "ra, dec = np.meshgrid(ra_plot,dec_plot)"
   ]
  },
  {
   "cell_type": "code",
   "execution_count": 6,
   "metadata": {},
   "outputs": [
    {
     "name": "stdout",
     "output_type": "stream",
     "text": [
      "ximin = 0.936736208558\n",
      "15.893080415310195 12.33677579915104 12.495458345702215 23.683802935238553\n",
      "(83, 95)\n",
      "ra = 165.454545455 deg, dec = 60.9090909091 deg\n",
      "ra = 2.88772658057, dec = 1.06306418076\n"
     ]
    }
   ],
   "source": [
    "xi = abs(SNR_L-SNR_H)+abs(SNR_L-SNR_V)+abs(SNR_H-SNR_V)\n",
    "xi_n = abs(SNR_L-SNR_H)/(SNR_L+SNR_H)+abs(SNR_L-SNR_V)/(SNR_L+SNR_V)+abs(SNR_H-SNR_V)/(SNR_V+SNR_H)\n",
    "\n",
    "a = SNR_L.copy()\n",
    "\n",
    "#combined SNR \n",
    "SNR_comb = np.sqrt(SNR_L**2+SNR_H**2+SNR_V**2)\n",
    "\n",
    "#comparable SNR, for c = 0 the SNR only differ by ~0.001\n",
    "c = 0.2\n",
    "com = xi_n <= xi_n.min() + c\n",
    "com_ = xi_n > xi_n.min() + c\n",
    "\n",
    "SNR_comb[com_] = 0\n",
    "\n",
    "ind = unravel_index(SNR_comb.argmax(), a.shape)\n",
    "\n",
    "print('ximin = {0}'.format(xi.min()))\n",
    "print SNR_L[ind], SNR_V[ind], SNR_H[ind], SNR_comb[ind]\n",
    "print ind\n",
    "print('ra = {0} deg, dec = {1} deg'.format(ra_plot[ind[1]]*180/np.pi, 180/np.pi*dec_plot[ind[0]]))\n",
    "print('ra = {0}, dec = {1}'.format(ra_plot[ind[1]], dec_plot[ind[0]]))\n",
    "\n",
    "np.savetxt('SNR skymaps/SNR_cut.txt', SNR_comb)\n"
   ]
  },
  {
   "cell_type": "code",
   "execution_count": null,
   "metadata": {
    "collapsed": true
   },
   "outputs": [],
   "source": [
    "i = int((121.8+180)*100/360)\n",
    "j = int((82.7+90)*100/180)\n",
    "print SNR_comb[i, j]\n",
    "print SNR_comb.max()"
   ]
  },
  {
   "cell_type": "code",
   "execution_count": null,
   "metadata": {
    "collapsed": true
   },
   "outputs": [],
   "source": []
  },
  {
   "cell_type": "code",
   "execution_count": null,
   "metadata": {
    "collapsed": true
   },
   "outputs": [],
   "source": []
  }
 ],
 "metadata": {
  "kernelspec": {
   "display_name": "Python 2",
   "language": "python",
   "name": "python2"
  },
  "language_info": {
   "codemirror_mode": {
    "name": "ipython",
    "version": 2
   },
   "file_extension": ".py",
   "mimetype": "text/x-python",
   "name": "python",
   "nbconvert_exporter": "python",
   "pygments_lexer": "ipython2",
   "version": "2.7.14"
  }
 },
 "nbformat": 4,
 "nbformat_minor": 2
}
