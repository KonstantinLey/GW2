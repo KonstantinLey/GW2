{
 "cells": [
  {
   "cell_type": "markdown",
   "metadata": {},
   "source": [
    "# This is a demo for generating CBC chirp signals using LAL\n",
    "\n",
    "First, start by importing necessary modules"
   ]
  },
  {
   "cell_type": "code",
   "execution_count": 29,
   "metadata": {
    "collapsed": true
   },
   "outputs": [],
   "source": [
    "%matplotlib inline\n",
    "%config InlineBackend.figure_format = 'retina'\n",
    "\n",
    "import lal\n",
    "\n",
    "from __future__ import division\n",
    "\n",
    "import sys\n",
    "import math\n",
    "\n",
    "import numpy as np\n",
    "\n",
    "import matplotlib\n",
    "import matplotlib.pyplot as plot\n",
    "\n",
    "import lal\n",
    "from lal import CachedDetectors\n",
    "from lal import LALDetectorIndexLHODIFF,LALDetectorIndexLLODIFF,LALDetectorIndexVIRGODIFF\n",
    "\n",
    "from lal import LIGOTimeGPS\n",
    "from lal import MSUN_SI as LAL_MSUN_SI\n",
    "from lal import PC_SI as LAL_PC_SI\n",
    "from lal import DictInsertREAL8Value, DictInsertINT4Value\n",
    "\n",
    "import lalsimulation\n",
    "from _lalsimulation import SimInspiralTD\n",
    "from _lalsimulation import SimInspiralCreateWaveformFlags\n",
    "from _lalsimulation import GetApproximantFromString\n",
    "from _lalsimulation import SimInspiralWaveformParamsInsertTidalLambda1\n",
    "from _lalsimulation import SimInspiralWaveformParamsInsertTidalLambda2\n",
    "\n",
    "from lal import ComputeDetAMResponse\n",
    "\n",
    "from astropy import units as u\n",
    "from astropy.coordinates import SkyCoord\n",
    "\n",
    "DETECTOR_SITES = {\n",
    "    'H1': LALDetectorIndexLHODIFF,\n",
    "    'L1': LALDetectorIndexLLODIFF,\n",
    "    'V1': LALDetectorIndexVIRGODIFF\n",
    "    }\n",
    "\n",
    "ZERO = {'x': 0., 'y': 0., 'z': 0.}\n",
    "\n",
    "# map order integer to a string that can be parsed by lalsimulation\n",
    "PN_ORDERS = {\n",
    "    'default'          : -1,\n",
    "    'zeroPN'           : 0,\n",
    "    'onePN'            : 2,\n",
    "    'onePointFivePN'   : 3,\n",
    "    'twoPN'            : 4,\n",
    "    'twoPointFivePN'   : 5,\n",
    "    'threePN'          : 6,\n",
    "    'threePointFivePN' : 7,\n",
    "    'pseudoFourPN'     : 8,\n",
    "    }\n"
   ]
  },
  {
   "cell_type": "code",
   "execution_count": 30,
   "metadata": {
    "collapsed": true
   },
   "outputs": [],
   "source": [
    "class Binary(object):\n",
    "    \"\"\"\n",
    "    A CompactBinary object characterises a binary formed by two compact objects.\n",
    "    \"\"\"\n",
    "\n",
    "    def __init__(self, mass1=1.4, mass2=1.4, distance=1, \\\n",
    "                 spin1=ZERO, spin2=ZERO, lambda1=0, lambda2=0, \n",
    "                 eccentricity=0, meanPerAno=0, \n",
    "                 inclination=0, psi=0):\n",
    "        \"\"\"\n",
    "        mass1, mass2 -- masses of the binary components in solar masses\n",
    "        distance -- distance of the binary in Mpc\n",
    "        redshift -- redshift of the binary. If zero, cosmology is ignored.\n",
    "        spin1, spin2 -- spin vectors of binary components\n",
    "        lambda1,lambda2 -- tidal parameters\n",
    "        eccentricity -- eccentricity at reference epoch\n",
    "        meanPerAno -- mean anomaly of periastron\n",
    "        inclination -- inclination angle with respect to the line of sight in degrees\n",
    "        psi -- longitude of ascending nodes, degenerate with the polarization angle (Omega or psi)\n",
    "        \"\"\"\n",
    "        self.mass1 = mass1\n",
    "        self.mass2 = mass2\n",
    "        self.distance = distance\n",
    "        self.spin1 = spin1\n",
    "        self.spin2 = spin2\n",
    "        self.lambda1 = lambda1\n",
    "        self.lambda2 = lambda2\n",
    "        self.eccentricity = eccentricity\n",
    "        self.meanPerAno = meanPerAno \n",
    "        self.iota = inclination\n",
    "        self.longAscNodes = psi"
   ]
  },
  {
   "cell_type": "code",
   "execution_count": 31,
   "metadata": {
    "collapsed": true
   },
   "outputs": [],
   "source": [
    "class Template(object):\n",
    "    \"\"\"\n",
    "    A Template object characterises the gravitational\n",
    "    wave (GW) chirp signal associated to the coalescence of two\n",
    "    inspiralling compact objects.\n",
    "    \"\"\"\n",
    "\n",
    "    def __init__(self, approximant, amplitude0, phase0, sampling_rate, segment_duration, freq_min, freq_max, freq_ref, phi_ref, nonGRparams):\n",
    "        \"\"\"\n",
    "        approximant -- model approximant\n",
    "        amplitude0  -- amplitude pN order: -1 means include all\n",
    "        phase0      -- phase pN order: -1 means include all\n",
    "        sampling_rate    -- sampling rate in Hz\n",
    "        segment_duration -- segment duration in sec\n",
    "        freq_min -- start frequency in Hz\n",
    "        freq_max -- end frequency in Hz\n",
    "        freq_ref -- reference frequency for precessing spins in Hz\n",
    "        phi_ref  -- final phase in degrees\n",
    "        nonGRparams -- non GR parameters\n",
    "        \"\"\"\n",
    "        \n",
    "        self.approximant = GetApproximantFromString(approximant)\n",
    "        self.sampling_rate = sampling_rate # Hz\n",
    "        self.segment_duration = segment_duration # sec\n",
    "        self.amplitude0 = amplitude0\n",
    "        self.phase0 = phase0\n",
    "        self.freq_min = freq_min # Hz, start frequency\n",
    "        self.freq_max = freq_max # Hz, end frequency\n",
    "        self.freq_ref = freq_ref # Hz, reference frequency for precessing spins\n",
    "        self.phi_ref  = phi_ref  # final phase in degrees\n",
    "        self.nonGRparams = nonGRparams # non GR parameters\n",
    "        self.waveform_flags = SimInspiralCreateWaveformFlags()\n",
    "        \n",
    "    def time_domain(self, binary):\n",
    "        \"\"\"\n",
    "        Compute time-domain template model of the gravitational wave for a given compact binary.\n",
    "        Ref: http://software.ligo.org/docs/lalsuite/lalsimulation/group__lalsimulation__inspiral.html\n",
    "        \"\"\"\n",
    "         # build structure containing variable with default values\n",
    "        extra_params = lal.CreateDict()\n",
    "        DictInsertREAL8Value(extra_params,\"Lambda1\", binary.lambda1)\n",
    "        SimInspiralWaveformParamsInsertTidalLambda1(extra_params, binary.lambda1)\n",
    "        DictInsertREAL8Value(extra_params,\"Lambda2\", binary.lambda2)\n",
    "        SimInspiralWaveformParamsInsertTidalLambda2(extra_params, binary.lambda2)\n",
    "        DictInsertINT4Value(extra_params, \"amplitude0\", self.amplitude0)\n",
    "        DictInsertINT4Value(extra_params, \"phase0\", self.phase0)\n",
    "        \n",
    "    \n",
    "        return SimInspiralTD(binary.mass1 * LAL_MSUN_SI, binary.mass2 * LAL_MSUN_SI, \\\n",
    "                             binary.spin1['x'], binary.spin1['y'], binary.spin1['z'], \\\n",
    "                             binary.spin2['x'], binary.spin2['y'], binary.spin2['z'], \\\n",
    "                             binary.distance * 1.0e6 * LAL_PC_SI, math.radians(binary.iota), \\\n",
    "                             math.radians(self.phi_ref), math.radians(binary.longAscNodes), \\\n",
    "                             binary.eccentricity, binary.meanPerAno, \\\n",
    "                             1.0 / self.sampling_rate, self.freq_min, self.freq_ref, \\\n",
    "                             extra_params, self.approximant)"
   ]
  },
  {
   "cell_type": "code",
   "execution_count": 32,
   "metadata": {
    "collapsed": true
   },
   "outputs": [],
   "source": [
    "class Detector(object):\n",
    "    \"\"\"\n",
    "    A Detector object characterises a gravitational wave (GW) interferometric detector\n",
    "    \"\"\"\n",
    "\n",
    "    def __init__(self, detector):\n",
    "        \"\"\"\n",
    "        detector  -- label string of the detector\n",
    "        descriptor -- LAL descriptor\n",
    "        location -- geographic location of the detector\n",
    "        response -- response matrix\n",
    "\n",
    "        \"\"\"\n",
    "        self.name = detector\n",
    "        self.descriptor =  CachedDetectors[DETECTOR_SITES[detector]]\n",
    "        self.location = lalsimulation.DetectorPrefixToLALDetector(detector).location\n",
    "        self.response = lalsimulation.DetectorPrefixToLALDetector(detector).response\n",
    "        \n",
    "    def antenna_pattern(self, time_at_coalescence, RA, dec):\n",
    "        \"\"\" Compute antenna response\n",
    "        \"\"\"\n",
    "        \n",
    "        gmst_rad = lal.GreenwichMeanSiderealTime(time_at_coalescence)\n",
    "        fplus = []\n",
    "        fcross = []\n",
    "        for (RA_val, dec_val) in zip(RA, dec):\n",
    "            fplus_val,fcross_val = ComputeDetAMResponse(self.descriptor.response,\n",
    "                                    RA_val, dec_val, psi, gmst_rad)\n",
    "            fplus.append(fplus_val)\n",
    "            fcross.append(fcross_val)\n",
    "        return np.array(fplus), np.array(fcross)\n",
    "        \n",
    "    def project_strain(self, hplus, hcross, time_at_coalescence, RA, dec):\n",
    "        \"\"\" Project hplus and hcross onto the detector assuming a given\n",
    "        position and polarization of the source.\n",
    "        \"\"\"\n",
    "\n",
    "        assert hplus.data.length == hcross.data.length\n",
    "        assert hplus.deltaT == hcross.deltaT\n",
    "\n",
    "        fplus, fcross = self.antenna_pattern(time_at_coalescence, [RA], [dec])\n",
    "    \n",
    "        hplus.data.data *= fplus[0]\n",
    "        hcross.data.data *= fcross[0]\n",
    "        \n",
    "        # Could use this less elegant solution:\n",
    "        # hstrain.data.data = fplus * hplus.data.data + fcross * hcross.data.data\n",
    "\n",
    "        # Could use this command, but require RA, dec -> phi, theta conversion\n",
    "        #hstrain = lalsimulation.SimDetectorStrainREAL8TimeSeries(hp, hc, \n",
    "        #        phi, theta, psi, \n",
    "        #        lalsim.DetectorPrefixToLALDetector(str(detector)))\n",
    "        \n",
    "        return lal.AddREAL8TimeSeries(hplus, hcross)\n",
    "\n",
    "    def time_delay_from_earth_center(self, RA, dec, time_gps):\n",
    "        \"\"\" Returns the time delay from the earth center\n",
    "        \"\"\"\n",
    "        return lal.TimeDelayFromEarthCenter(self.location,\n",
    "                      float(RA), float(dec), float(time_gps))\n",
    " "
   ]
  },
  {
   "cell_type": "markdown",
   "metadata": {},
   "source": [
    "This is the main body of this notebook\n",
    "We define a binary, waveform model and choose a detector, then compute the expected signal"
   ]
  },
  {
   "cell_type": "code",
   "execution_count": 42,
   "metadata": {},
   "outputs": [
    {
     "data": {
      "image/png": "[encoded data removed]",
      "text/plain": [
       "<matplotlib.figure.Figure at 0x10baf7b50>"
      ]
     },
     "metadata": {
      "image/png": {
       "height": 258,
       "width": 372
      }
     },
     "output_type": "display_data"
    }
   ],
   "source": [
    "detector = Detector('H1')\n",
    "event = 'GW170817'\n",
    "geocent_end_time_GW150914 = 1126259462.44\n",
    "geocent_end_time_GW170817 = 1187008882.43\n",
    "\n",
    "geocent_end_time = geocent_end_time_GW170817\n",
    "\n",
    "# Define compact binary (component masses and distance)\n",
    "mass1 = 1.46 #36 #Msun \n",
    "mass2 = 1.24 #29 #Msun \n",
    "distance = 40 #410 #Mpc\n",
    "\n",
    "# Define its geometrical parameters (sky position and other angles)\n",
    "RA = 197.448*np.pi/180\n",
    "dec = -23.3839*np.pi/180\n",
    "iota = 170*np.pi/180#55*np.pi/180\n",
    "phi_ref = 0\n",
    "psi = 0\n",
    "\n",
    "# Define waveform model\n",
    "approximant = \"TaylorT4threePN\"\n",
    "amplitude_order = 0\n",
    "phase_order = -1\n",
    "\n",
    "# Define signal properties\n",
    "sampling_rate = 4096*4 # Hz\n",
    "segment_duration = 32 # s\n",
    "freq_min = 20 # Hz\n",
    "freq_max = sampling_rate/2.0\n",
    "\n",
    "# Create binary            \n",
    "binary = Binary(mass1, mass2, distance, ZERO, ZERO, \\\n",
    "                0.0, 0.0, 0, 0, iota, psi)\n",
    "\n",
    "# Create waveform model\n",
    "model = Template(approximant, amplitude_order, phase_order, sampling_rate,\n",
    "                                    segment_duration, freq_min, freq_max, 0.0, phi_ref, None)\n",
    "\n",
    "# Generate GW polarizations for that binary using that model\n",
    "hplus, hcross = model.time_domain(binary)\n",
    "\n",
    "# Project onto detector\n",
    "hstrain = detector.project_strain(hplus, hcross, geocent_end_time, RA, dec)        \n",
    "\n",
    "# Compute time delay wrt Earth center due to propagation\n",
    "time_delay = detector.time_delay_from_earth_center(RA, dec, geocent_end_time)\n",
    "\n",
    "# Time shift accordingly\n",
    "hoft = np.roll(hstrain.data.data, int(time_delay * sampling_rate))\n",
    "\n",
    "plot.plot(hoft)\n",
    "#plot.ylim(-3e-22,3e-22)\n",
    "#plot.savefig('GW170817test.pdf')\n",
    "plot.show()\n",
    "\n",
    "np.savetxt('{0}simulationSR{1}Event{2}.txt'.format(detector.name, sampling_rate,event), hoft, delimiter=',')\n"
   ]
  },
  {
   "cell_type": "code",
   "execution_count": null,
   "metadata": {
    "collapsed": true
   },
   "outputs": [],
   "source": []
  },
  {
   "cell_type": "code",
   "execution_count": null,
   "metadata": {
    "collapsed": true
   },
   "outputs": [],
   "source": []
  },
  {
   "cell_type": "code",
   "execution_count": null,
   "metadata": {
    "collapsed": true
   },
   "outputs": [],
   "source": [
    "\n"
   ]
  },
  {
   "cell_type": "code",
   "execution_count": null,
   "metadata": {
    "collapsed": true
   },
   "outputs": [],
   "source": []
  },
  {
   "cell_type": "code",
   "execution_count": null,
   "metadata": {
    "collapsed": true
   },
   "outputs": [],
   "source": []
  },
  {
   "cell_type": "code",
   "execution_count": null,
   "metadata": {
    "collapsed": true
   },
   "outputs": [],
   "source": []
  },
  {
   "cell_type": "code",
   "execution_count": null,
   "metadata": {
    "collapsed": true,
    "scrolled": true
   },
   "outputs": [],
   "source": []
  },
  {
   "cell_type": "code",
   "execution_count": null,
   "metadata": {
    "collapsed": true
   },
   "outputs": [],
   "source": []
  },
  {
   "cell_type": "code",
   "execution_count": null,
   "metadata": {
    "collapsed": true
   },
   "outputs": [],
   "source": []
  },
  {
   "cell_type": "code",
   "execution_count": null,
   "metadata": {
    "collapsed": true
   },
   "outputs": [],
   "source": []
  },
  {
   "cell_type": "code",
   "execution_count": null,
   "metadata": {
    "collapsed": true
   },
   "outputs": [],
   "source": []
  },
  {
   "cell_type": "code",
   "execution_count": null,
   "metadata": {
    "collapsed": true
   },
   "outputs": [],
   "source": []
  }
 ],
 "metadata": {
  "kernelspec": {
   "display_name": "Python 2",
   "language": "python",
   "name": "python2"
  },
  "language_info": {
   "codemirror_mode": {
    "name": "ipython",
    "version": 2
   },
   "file_extension": ".py",
   "mimetype": "text/x-python",
   "name": "python",
   "nbconvert_exporter": "python",
   "pygments_lexer": "ipython2",
   "version": "2.7.14"
  }
 },
 "nbformat": 4,
 "nbformat_minor": 2
}
