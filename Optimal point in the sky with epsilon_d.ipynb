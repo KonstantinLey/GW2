{
 "cells": [
  {
   "cell_type": "code",
   "execution_count": 94,
   "metadata": {
    "collapsed": true
   },
   "outputs": [],
   "source": [
    "%matplotlib inline\n",
    "%config InlineBackend.figure_format = 'retina'\n",
    "\n",
    "from __future__ import division\n",
    "\n",
    "import numpy as np\n",
    "\n",
    "import matplotlib\n",
    "import matplotlib.pyplot as plt\n",
    "\n",
    "import lal\n",
    "from lal import CachedDetectors\n",
    "from lal import LALDetectorIndexLHODIFF,LALDetectorIndexLLODIFF,LALDetectorIndexVIRGODIFF\n",
    "\n",
    "from lal import ComputeDetAMResponse\n",
    "\n",
    "import lalsimulation\n",
    "\n",
    "DETECTOR_SITES = {\n",
    "    'H1': LALDetectorIndexLHODIFF,\n",
    "    'L1': LALDetectorIndexLLODIFF,\n",
    "    'V1': LALDetectorIndexVIRGODIFF\n",
    "    }\n",
    "\n"
   ]
  },
  {
   "cell_type": "code",
   "execution_count": 95,
   "metadata": {
    "collapsed": true
   },
   "outputs": [],
   "source": [
    "# Calculate first the diagonal elements of kappa with the fitted PSDs of the data \n",
    "freqs = np.arange(20000)/10. + 20\n",
    "\n",
    "#analytic fits of the PSDs\n",
    "S_L1 = (0.8e-22*(15./(0.08+freqs))**2)**2+0.67e-23**2+((freqs/2000.)*3.e-23)**2\n",
    "S_H1 = (1e-22*(24./(0.1+freqs))**2)**2+0.7e-23**2+((freqs/2000.)*3.4e-23)**2\n",
    "S_V1 = (1e-22*(35./(0.1+freqs))**2)**2+0.9e-23**2+((freqs/2000.)*15e-23)**2\n",
    "\n",
    "integral_nom = np.zeros([len(freqs),3])\n",
    "integral_nom[:,0] = freqs**(-7./3.)*S_H1**(-1.)\n",
    "integral_nom[:,1] = freqs**(-7./3.)*S_L1**(-1.)\n",
    "integral_nom[:,2] = freqs**(-7./3.)*S_V1**(-1.)\n",
    "\n",
    "integral_denom = freqs**(-7/3)*(S_H1**(-1.)+S_L1**(-1.)+S_V1**(-1.))/3.\n",
    "                                \n",
    "kappa = np.zeros(3)\n",
    "\n",
    "for i in range(3):\n",
    "    kappa[i] = (integral_nom[:,i].sum())/(integral_denom.sum())\n",
    "\"\"\"\n",
    "print kappa.sum()\n",
    "print kappa[0]\n",
    "print kappa[1]\n",
    "print kappa[2]\n",
    "\"\"\";"
   ]
  },
  {
   "cell_type": "code",
   "execution_count": 96,
   "metadata": {
    "collapsed": true
   },
   "outputs": [],
   "source": [
    "class Detector(object):\n",
    "    \"\"\"\n",
    "    A Detector object characterises a gravitational wave (GW) interferometric detector\n",
    "    \"\"\"\n",
    "\n",
    "    def __init__(self, detector):\n",
    "        \"\"\"\n",
    "        detector  -- label string of the detector\n",
    "        descriptor -- LAL descriptor\n",
    "        location -- geographic location of the detector\n",
    "        response -- response matrix\n",
    "\n",
    "        \"\"\"\n",
    "        self.name = detector\n",
    "        self.descriptor =  CachedDetectors[DETECTOR_SITES[detector]]\n",
    "        self.location = lalsimulation.DetectorPrefixToLALDetector(detector).location\n",
    "        self.response = lalsimulation.DetectorPrefixToLALDetector(detector).response\n",
    "        \n",
    "    def antenna_pattern(self, time_at_coalescence, RA, dec):\n",
    "        \"\"\" Compute antenna response\n",
    "        \"\"\"\n",
    "        \n",
    "        gmst_rad = lal.GreenwichMeanSiderealTime(time_at_coalescence)\n",
    "        fplus = []\n",
    "        fcross = []\n",
    "        for (RA_val, dec_val) in zip(RA, dec):\n",
    "            fplus_val,fcross_val = ComputeDetAMResponse(self.descriptor.response,\n",
    "                                    RA_val, dec_val, psi, gmst_rad)\n",
    "            fplus.append(fplus_val)\n",
    "            fcross.append(fcross_val)\n",
    "        return np.array(fplus), np.array(fcross)"
   ]
  },
  {
   "cell_type": "code",
   "execution_count": 97,
   "metadata": {},
   "outputs": [],
   "source": [
    "#map resolution\n",
    "n = 1000\n",
    "\n",
    "ra_plot = np.linspace(-np.pi, np.pi, n)\n",
    "dec_plot= np.linspace(-np.pi/2, np.pi/2, n)\n",
    "\n",
    "time_GW170817 = 1187008882.43\n",
    "\n",
    "time_0 = 1187007040.\n",
    "iota = np.float(170)\n",
    "psi = np.float(0)\n",
    "\n",
    "time = time_0\n",
    "\n",
    "#Generate Grid for the calculation\n",
    "ra, dec = np.meshgrid(ra_plot,dec_plot)\n",
    "\n",
    "for i in range(3):    \n",
    "    if(i==0):\n",
    "        detector = Detector('H1')\n",
    "    if(i==1):\n",
    "        detector = Detector('L1')\n",
    "    if(i==2):\n",
    "        detector = Detector('V1')\n",
    "\n",
    "    Fplus,Fcross = detector.antenna_pattern(time, ra.flatten(), dec.flatten())\n",
    "    \n",
    "    if(i==0):\n",
    "        FplusH1 = Fplus.reshape(ra.shape)\n",
    "        FcrossH1 = Fcross.reshape(ra.shape)\n",
    "    if(i==1):\n",
    "        FplusL1 = Fplus.reshape(ra.shape)\n",
    "        FcrossL1 = Fcross.reshape(ra.shape)\n",
    "    if(i==2):\n",
    "        FplusV1 = Fplus.reshape(ra.shape)\n",
    "        FcrossV1 = Fcross.reshape(ra.shape)\n",
    "    "
   ]
  },
  {
   "cell_type": "code",
   "execution_count": null,
   "metadata": {
    "collapsed": true
   },
   "outputs": [],
   "source": [
    "from numpy import linalg as LA\n",
    "from numpy import unravel_index\n",
    "import matplotlib.cm as cm "
   ]
  },
  {
   "cell_type": "code",
   "execution_count": null,
   "metadata": {},
   "outputs": [],
   "source": [
    "Theta = np.zeros([2,2,n,n]) \n",
    "Theta_diag = np.zeros([n,n])\n",
    "epsilon = np.zeros([n,n])\n",
    "index_phi = np.arange(n)\n",
    "index_theta = np.arange(n)\n",
    "\n",
    "for i in index_phi:\n",
    "    for j in index_theta:\n",
    "        Theta[0,0,j,i] = kappa[0]*FplusH1[j,i]**2 + kappa[1]*FplusL1[j,i]**2 + kappa[2]*FplusV1[j,i]**2\n",
    "        Theta[0,1,j,i] = kappa[0]*FplusH1[j,i]*FcrossH1[j,i] + kappa[1]*FplusL1[j,i]*FcrossL1[j,i] + \\\n",
    "                        + kappa[2]*FplusV1[j,i]*FcrossV1[j,i]\n",
    "        Theta[1,0,j,i] = Theta[0,1,j,i]\n",
    "        Theta[1,1,j,i] = kappa[0]*FcrossH1[j,i]**2 + kappa[1]*FcrossL1[j,i]**2 + kappa[2]*FcrossV1[j,i]**2\n",
    "        \n",
    "        #calculate the eigenvalues\n",
    "        e,_ = LA.eig(np.array(Theta[:,:,j,i]))\n",
    "        epsilon[j,i] = (e[0]-e[1])/(e[0] + e[1])\n",
    "        \n",
    "#identify where the detector network has the highest resolution \n",
    "epsilon_abs = abs(epsilon)\n",
    "\n",
    "ind = unravel_index(epsilon_abs.argmin(), FplusH1.shape)\n",
    "print ind\n",
    "ra_plot = np.linspace(-np.pi, np.pi, n)\n",
    "dec_plot= np.linspace(-np.pi/2, np.pi/2, n)\n",
    "ra_mesh, dec_mesh = np.meshgrid(ra_plot,dec_plot)\n",
    "print('ra = {0} deg, dec = {1} deg'.format(ra_plot[ind[1]]*180/np.pi, 180/np.pi*dec_plot[ind[0]]))\n",
    "print('ra = {0}, dec = {1}'.format(ra_plot[ind[1]],dec_plot[ind[0]]))\n"
   ]
  },
  {
   "cell_type": "code",
   "execution_count": null,
   "metadata": {},
   "outputs": [],
   "source": [
    "#Calculate ra for different times\n",
    "time_offset = 100\n",
    "ra = -0.20776063641+2*np.pi*time_offset/(86164.09)\n",
    "print ra"
   ]
  },
  {
   "cell_type": "code",
   "execution_count": null,
   "metadata": {},
   "outputs": [],
   "source": [
    "fig = plt.figure()\n",
    "ax = fig.add_subplot(111, projection='mollweide')\n",
    "\n",
    "plt.pcolormesh(ra_mesh, dec_mesh, epsilon_abs, cmap = cm.magma)\n",
    "plt.colorbar()\n",
    "plt.xlabel('$ra$')\n",
    "plt.ylabel('$dec$')\n",
    "plt.show()"
   ]
  },
  {
   "cell_type": "code",
   "execution_count": null,
   "metadata": {},
   "outputs": [],
   "source": []
  },
  {
   "cell_type": "code",
   "execution_count": null,
   "metadata": {
    "collapsed": true
   },
   "outputs": [],
   "source": []
  },
  {
   "cell_type": "code",
   "execution_count": null,
   "metadata": {},
   "outputs": [],
   "source": [
    "#calculate eta\n",
    "m1 = 1.48\n",
    "m2 = 1.26\n",
    "eta = (m1*m2)/(m1+m2)**2\n",
    "mchirp = (m1*m2)**(3/5)/(m1+m2)**(1/5)\n",
    "print eta\n",
    "print mchirp"
   ]
  },
  {
   "cell_type": "code",
   "execution_count": null,
   "metadata": {},
   "outputs": [],
   "source": []
  },
  {
   "cell_type": "code",
   "execution_count": null,
   "metadata": {},
   "outputs": [],
   "source": []
  },
  {
   "cell_type": "code",
   "execution_count": null,
   "metadata": {
    "collapsed": true
   },
   "outputs": [],
   "source": []
  }
 ],
 "metadata": {
  "kernelspec": {
   "display_name": "Python 2",
   "language": "python",
   "name": "python2"
  },
  "language_info": {
   "codemirror_mode": {
    "name": "ipython",
    "version": 2
   },
   "file_extension": ".py",
   "mimetype": "text/x-python",
   "name": "python",
   "nbconvert_exporter": "python",
   "pygments_lexer": "ipython2",
   "version": "2.7.14"
  }
 },
 "nbformat": 4,
 "nbformat_minor": 2
}
